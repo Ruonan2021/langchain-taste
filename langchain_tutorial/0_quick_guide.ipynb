{
 "cells": [
  {
   "cell_type": "markdown",
   "metadata": {},
   "source": [
    "source https://www.youtube.com/watch?v=kYRB-vJFy38&list=PLqZXAkvF1bPNQER9mLmDbntNfSpzdDIU5&index=2"
   ]
  },
  {
   "cell_type": "markdown",
   "metadata": {},
   "source": [
    "Start"
   ]
  },
  {
   "cell_type": "code",
   "execution_count": 1,
   "metadata": {},
   "outputs": [],
   "source": [
    "from langchain.llms import OpenAI"
   ]
  },
  {
   "cell_type": "code",
   "execution_count": 2,
   "metadata": {},
   "outputs": [],
   "source": [
    "# temperature controls variability of answer\n",
    "llm = OpenAI(temperature=0)"
   ]
  },
  {
   "cell_type": "code",
   "execution_count": 4,
   "metadata": {},
   "outputs": [
    {
     "name": "stdout",
     "output_type": "stream",
     "text": [
      "\n",
      "\n",
      "1. Weather and Snow Conditions: It is important to check the weather and snow conditions before your trip to Les Deux Alpes. This will help you plan your activities and ensure that you have the appropriate gear for the conditions.\n",
      "\n",
      "2. Ski Passes: Les Deux Alpes offers a variety of ski passes, including day passes, multi-day passes, and season passes. It is important to research and purchase the pass that best fits your needs and budget.\n",
      "\n",
      "3. Ski Equipment: If you are not bringing your own ski equipment, you can rent it at one of the many ski rental shops in Les Deux Alpes. It is recommended to reserve your equipment in advance to ensure availability.\n",
      "\n",
      "4. Language: While English is widely spoken in Les Deux Alpes, it is always helpful to learn a few basic French phrases before your trip. This will make it easier to communicate with locals and navigate the area.\n",
      "\n",
      "5. Après Ski Activities: Les Deux Alpes is not just about skiing, there are also plenty of après ski activities to enjoy such as ice skating, snowshoeing, and visiting the local shops and restaurants. It is a good idea to research and plan some activities for when you are not on the slopes.\n"
     ]
    }
   ],
   "source": [
    "text = \"What are 5 things i need to know before going to ski in France Les Deux Alpes\"\n",
    "print(llm(text))"
   ]
  },
  {
   "cell_type": "markdown",
   "metadata": {},
   "source": [
    "Prompt template"
   ]
  },
  {
   "cell_type": "code",
   "execution_count": 5,
   "metadata": {},
   "outputs": [],
   "source": [
    "from langchain.prompts import PromptTemplate"
   ]
  },
  {
   "cell_type": "code",
   "execution_count": 6,
   "metadata": {},
   "outputs": [],
   "source": [
    "prompts = PromptTemplate(\n",
    "    input_variables=[\"things_to_do\"]\n",
    "    , template=\"What are 5 things I need to know before {things_to_do}\"\n",
    ")"
   ]
  },
  {
   "cell_type": "code",
   "execution_count": 7,
   "metadata": {},
   "outputs": [
    {
     "name": "stdout",
     "output_type": "stream",
     "text": [
      "What are 5 things I need to know before starting a data science project with VS code\n"
     ]
    }
   ],
   "source": [
    "print(prompts.format(things_to_do=\"starting a data science project with VS code\"))"
   ]
  },
  {
   "cell_type": "code",
   "execution_count": 8,
   "metadata": {},
   "outputs": [
    {
     "name": "stdout",
     "output_type": "stream",
     "text": [
      "\n",
      "\n",
      "1. Understanding of Data Science Concepts: Before starting a data science project with VS code, it is important to have a good understanding of data science concepts such as data cleaning, data manipulation, data visualization, and machine learning algorithms. This will help you to effectively use VS code for your project.\n",
      "\n",
      "2. Familiarity with Programming Languages: VS code supports multiple programming languages such as Python, R, and SQL, which are commonly used in data science. It is important to have a good understanding of at least one of these languages before starting a data science project with VS code.\n",
      "\n",
      "3. Knowledge of VS Code Features: VS code has many features that can be useful for data science projects, such as code completion, debugging, and extensions for data science libraries. It is important to have a basic understanding of these features to make the most out of VS code for your project.\n",
      "\n",
      "4. Data Storage and Management: Data is a crucial aspect of any data science project. Before starting your project, you should have a plan for storing and managing your data. This could include setting up a database or using cloud storage services.\n",
      "\n",
      "5. Project Planning and Organization: Like any other project, it is important to have a clear plan and organization for your data science project. This could include defining\n"
     ]
    }
   ],
   "source": [
    "print(llm(prompts.format(things_to_do=\"starting a data science project with VS code\")))"
   ]
  },
  {
   "cell_type": "markdown",
   "metadata": {},
   "source": [
    "Agents"
   ]
  },
  {
   "cell_type": "code",
   "execution_count": 11,
   "metadata": {},
   "outputs": [
    {
     "name": "stdout",
     "output_type": "stream",
     "text": [
      "Collecting google_search-results\n",
      "  Downloading google_search_results-2.4.2.tar.gz (18 kB)\n",
      "  Preparing metadata (setup.py) ... \u001b[?25ldone\n",
      "\u001b[?25hRequirement already satisfied: requests in /Users/ruonan.zhang/anaconda3/lib/python3.9/site-packages (from google_search-results) (2.28.1)\n",
      "Requirement already satisfied: charset-normalizer<3,>=2 in /Users/ruonan.zhang/anaconda3/lib/python3.9/site-packages (from requests->google_search-results) (2.0.4)\n",
      "Requirement already satisfied: idna<4,>=2.5 in /Users/ruonan.zhang/anaconda3/lib/python3.9/site-packages (from requests->google_search-results) (3.4)\n",
      "Requirement already satisfied: urllib3<1.27,>=1.21.1 in /Users/ruonan.zhang/anaconda3/lib/python3.9/site-packages (from requests->google_search-results) (1.26.12)\n",
      "Requirement already satisfied: certifi>=2017.4.17 in /Users/ruonan.zhang/anaconda3/lib/python3.9/site-packages (from requests->google_search-results) (2023.7.22)\n",
      "Building wheels for collected packages: google_search-results\n",
      "  Building wheel for google_search-results (setup.py) ... \u001b[?25ldone\n",
      "\u001b[?25h  Created wheel for google_search-results: filename=google_search_results-2.4.2-py3-none-any.whl size=32003 sha256=8383397ca38aff1c3d5c398253dc43c0c28eb5f2d245ea0380fa940c0950d031\n",
      "  Stored in directory: /Users/ruonan.zhang/Library/Caches/pip/wheels/68/8e/73/744b7d9d7ac618849d93081a20e1c0deccd2aef90901c9f5a9\n",
      "Successfully built google_search-results\n",
      "Installing collected packages: google_search-results\n",
      "Successfully installed google_search-results-2.4.2\n",
      "Note: you may need to restart the kernel to use updated packages.\n"
     ]
    }
   ],
   "source": [
    "pip install google_search-results"
   ]
  },
  {
   "cell_type": "code",
   "execution_count": 12,
   "metadata": {},
   "outputs": [],
   "source": [
    "# here need SEARCH_API_KEY"
   ]
  },
  {
   "cell_type": "markdown",
   "metadata": {},
   "source": [
    "Memory"
   ]
  },
  {
   "cell_type": "code",
   "execution_count": 13,
   "metadata": {},
   "outputs": [],
   "source": [
    "from langchain import ConversationChain"
   ]
  },
  {
   "cell_type": "code",
   "execution_count": 14,
   "metadata": {},
   "outputs": [],
   "source": [
    "conversation = ConversationChain(llm=llm, verbose=True)"
   ]
  },
  {
   "cell_type": "code",
   "execution_count": 15,
   "metadata": {},
   "outputs": [
    {
     "name": "stdout",
     "output_type": "stream",
     "text": [
      "\n",
      "\n",
      "\u001b[1m> Entering new ConversationChain chain...\u001b[0m\n",
      "Prompt after formatting:\n",
      "\u001b[32;1m\u001b[1;3mThe following is a friendly conversation between a human and an AI. The AI is talkative and provides lots of specific details from its context. If the AI does not know the answer to a question, it truthfully says it does not know.\n",
      "\n",
      "Current conversation:\n",
      "\n",
      "Human: Hi there\n",
      "AI:\u001b[0m\n",
      "\n",
      "\u001b[1m> Finished chain.\u001b[0m\n"
     ]
    },
    {
     "data": {
      "text/plain": [
       "\" Hello! It's nice to meet you. I am an AI created by OpenAI. I am constantly learning and improving my abilities through machine learning algorithms. How can I assist you today?\""
      ]
     },
     "execution_count": 15,
     "metadata": {},
     "output_type": "execute_result"
    }
   ],
   "source": [
    "conversation.predict(input=\"Hi there\")"
   ]
  },
  {
   "cell_type": "code",
   "execution_count": 17,
   "metadata": {},
   "outputs": [
    {
     "name": "stdout",
     "output_type": "stream",
     "text": [
      "\n",
      "\n",
      "\u001b[1m> Entering new ConversationChain chain...\u001b[0m\n",
      "Prompt after formatting:\n",
      "\u001b[32;1m\u001b[1;3mThe following is a friendly conversation between a human and an AI. The AI is talkative and provides lots of specific details from its context. If the AI does not know the answer to a question, it truthfully says it does not know.\n",
      "\n",
      "Current conversation:\n",
      "Human: Hi there\n",
      "AI:  Hello! It's nice to meet you. I am an AI created by OpenAI. I am constantly learning and improving my abilities through machine learning algorithms. How can I assist you today?\n",
      "Human: I wish to know what things are interesting to do in Coventry\n",
      "AI:\u001b[0m\n",
      "\n",
      "\u001b[1m> Finished chain.\u001b[0m\n"
     ]
    },
    {
     "data": {
      "text/plain": [
       "\" There are many interesting things to do in Coventry! You could visit the Coventry Cathedral, which is a beautiful and historic building with stunning architecture. You could also check out the Herbert Art Gallery and Museum, which showcases local art and history. If you're a fan of literature, you could visit the Coventry City of Culture 2021, which celebrates the city's rich literary heritage. And of course, there are plenty of restaurants, cafes, and shops to explore in the city center. Is there anything specific you are interested in?\""
      ]
     },
     "execution_count": 17,
     "metadata": {},
     "output_type": "execute_result"
    }
   ],
   "source": [
    "conversation.predict(input=\"I wish to know what things are interesting to do in Coventry\")"
   ]
  },
  {
   "cell_type": "code",
   "execution_count": 18,
   "metadata": {},
   "outputs": [
    {
     "name": "stdout",
     "output_type": "stream",
     "text": [
      "\n",
      "\n",
      "\u001b[1m> Entering new ConversationChain chain...\u001b[0m\n",
      "Prompt after formatting:\n",
      "\u001b[32;1m\u001b[1;3mThe following is a friendly conversation between a human and an AI. The AI is talkative and provides lots of specific details from its context. If the AI does not know the answer to a question, it truthfully says it does not know.\n",
      "\n",
      "Current conversation:\n",
      "Human: Hi there\n",
      "AI:  Hello! It's nice to meet you. I am an AI created by OpenAI. I am constantly learning and improving my abilities through machine learning algorithms. How can I assist you today?\n",
      "Human: I wish to know what things are interesting to do in Coventry\n",
      "AI:  There are many interesting things to do in Coventry! You could visit the Coventry Cathedral, which is a beautiful and historic building with stunning architecture. You could also check out the Herbert Art Gallery and Museum, which showcases local art and history. If you're a fan of literature, you could visit the Coventry City of Culture 2021, which celebrates the city's rich literary heritage. And of course, there are plenty of restaurants, cafes, and shops to explore in the city center. Is there anything specific you are interested in?\n",
      "Human: I'm interested in city's history and culture\n",
      "AI:\u001b[0m\n",
      "\n",
      "\u001b[1m> Finished chain.\u001b[0m\n"
     ]
    },
    {
     "data": {
      "text/plain": [
       "\" Great! In addition to the places I mentioned before, you could also visit the Coventry Transport Museum, which showcases the city's history of transportation. The Coventry Music Museum is also a must-visit for music lovers, as it highlights the city's contributions to the music industry. And if you're interested in learning about the city's industrial past, you could take a tour of the Coventry Watch Museum or the Coventry Motor Museum. There are also many cultural events and festivals that take place throughout the year, so be sure to check the city's events calendar for any upcoming events that may interest you. Is there anything else I can help you with?\""
      ]
     },
     "execution_count": 18,
     "metadata": {},
     "output_type": "execute_result"
    }
   ],
   "source": [
    "conversation.predict(input=\"I'm interested in city's history and culture\")"
   ]
  },
  {
   "cell_type": "code",
   "execution_count": 19,
   "metadata": {},
   "outputs": [
    {
     "name": "stdout",
     "output_type": "stream",
     "text": [
      "\n",
      "\n",
      "\u001b[1m> Entering new ConversationChain chain...\u001b[0m\n",
      "Prompt after formatting:\n",
      "\u001b[32;1m\u001b[1;3mThe following is a friendly conversation between a human and an AI. The AI is talkative and provides lots of specific details from its context. If the AI does not know the answer to a question, it truthfully says it does not know.\n",
      "\n",
      "Current conversation:\n",
      "Human: Hi there\n",
      "AI:  Hello! It's nice to meet you. I am an AI created by OpenAI. I am constantly learning and improving my abilities through machine learning algorithms. How can I assist you today?\n",
      "Human: I wish to know what things are interesting to do in Coventry\n",
      "AI:  There are many interesting things to do in Coventry! You could visit the Coventry Cathedral, which is a beautiful and historic building with stunning architecture. You could also check out the Herbert Art Gallery and Museum, which showcases local art and history. If you're a fan of literature, you could visit the Coventry City of Culture 2021, which celebrates the city's rich literary heritage. And of course, there are plenty of restaurants, cafes, and shops to explore in the city center. Is there anything specific you are interested in?\n",
      "Human: I'm interested in city's history and culture\n",
      "AI:  Great! In addition to the places I mentioned before, you could also visit the Coventry Transport Museum, which showcases the city's history of transportation. The Coventry Music Museum is also a must-visit for music lovers, as it highlights the city's contributions to the music industry. And if you're interested in learning about the city's industrial past, you could take a tour of the Coventry Watch Museum or the Coventry Motor Museum. There are also many cultural events and festivals that take place throughout the year, so be sure to check the city's events calendar for any upcoming events that may interest you. Is there anything else I can help you with?\n",
      "Human: What is the first question I asked you\n",
      "AI:\u001b[0m\n",
      "\n",
      "\u001b[1m> Finished chain.\u001b[0m\n"
     ]
    },
    {
     "data": {
      "text/plain": [
       "' Your first question was \"Hi there.\" Is there anything else you would like to know?'"
      ]
     },
     "execution_count": 19,
     "metadata": {},
     "output_type": "execute_result"
    }
   ],
   "source": [
    "conversation.predict(input=\"What is the first question I asked you\")"
   ]
  },
  {
   "cell_type": "code",
   "execution_count": null,
   "metadata": {},
   "outputs": [],
   "source": []
  }
 ],
 "metadata": {
  "kernelspec": {
   "display_name": "Python 3.9.16 ('base')",
   "language": "python",
   "name": "python3"
  },
  "language_info": {
   "codemirror_mode": {
    "name": "ipython",
    "version": 3
   },
   "file_extension": ".py",
   "mimetype": "text/x-python",
   "name": "python",
   "nbconvert_exporter": "python",
   "pygments_lexer": "ipython3",
   "version": "3.9.16"
  },
  "orig_nbformat": 4,
  "vscode": {
   "interpreter": {
    "hash": "ad62d2eb202afdad78722257f8a11063d15db138ce2964719a755cfc11f1d65e"
   }
  }
 },
 "nbformat": 4,
 "nbformat_minor": 2
}
